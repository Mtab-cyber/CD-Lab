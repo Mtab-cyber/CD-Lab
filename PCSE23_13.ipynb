{
  "nbformat": 4,
  "nbformat_minor": 0,
  "metadata": {
    "colab": {
      "name": "Project.ipynb",
      "provenance": [],
      "collapsed_sections": [],
      "authorship_tag": "ABX9TyNUp3orq7IIG81xC5q/fyUk",
      "include_colab_link": true
    },
    "kernelspec": {
      "name": "python3",
      "display_name": "Python 3"
    },
    "language_info": {
      "name": "python"
    }
  },
  "cells": [
    {
      "cell_type": "markdown",
      "metadata": {
        "id": "view-in-github",
        "colab_type": "text"
      },
      "source": [
        "<a href=\"https://colab.research.google.com/github/Mtab-cyber/CD-Lab/blob/main/PCSE23_13.ipynb\" target=\"_parent\"><img src=\"https://colab.research.google.com/assets/colab-badge.svg\" alt=\"Open In Colab\"/></a>"
      ]
    },
    {
      "cell_type": "code",
      "source": [
        "ACCESS_TOKEN=\"1504889196539834368-pNnsxjfSebxUE2raPXcNLENvewmte0\"\n",
        "ACCESS_TOKEN_SECRET=\"P1NIV9kpBFT2GVEHpT6n7r0A6mKmms1i8vah6LQPitNfu\"\n",
        "CONSUMER_KEY=\"xazSVEcvwzMuqzPh1GAE2oydh\"\n",
        "CONSUMER_SECRET=\"WR0jPEWtTZSaoeJknB18YqoBfn6GZ2UbIQsX5qR6BnEqqtm4Zz\""
      ],
      "metadata": {
        "id": "BV0FvMUFYMtS"
      },
      "execution_count": 9,
      "outputs": []
    },
    {
      "cell_type": "code",
      "source": [
        "from tweepy import API\n",
        "from tweepy import OAuthHandler\n",
        "from io import BytesIO\n",
        "import base64\n",
        "from textblob import TextBlob\n",
        "from wordcloud import WordCloud, STOPWORDS\n",
        "import matplotlib.pyplot as plt\n",
        "import seaborn as sns\n",
        "import numpy as np\n",
        "import pandas as pd\n",
        "import re"
      ],
      "metadata": {
        "id": "E75xLZiGZYbm"
      },
      "execution_count": 10,
      "outputs": []
    },
    {
      "cell_type": "code",
      "source": [
        "class TwitterAuthenticator():\n",
        "  def authenticate_twitter_app(self):\n",
        "    auth = OAuthHandler(CONSUMER_KEY,CONSUMER_SECRET)\n",
        "    auth.set_access_token(ACCESS_TOKEN,ACCESS_TOKEN_SECRET)\n",
        "    return auth;"
      ],
      "metadata": {
        "id": "hN96wlu4Z84y"
      },
      "execution_count": 11,
      "outputs": []
    },
    {
      "cell_type": "code",
      "source": [
        "class TwitterClient():\n",
        "  def _init_(self,twitter_user=None):\n",
        "    self.auth = TwitterAuthenticator().authenticate_twitter_app()\n",
        "    self.twitter_client = API(self.auth)\n",
        "    self.twitter_user = twitter_user\n",
        "  \n",
        "  def get_twitter_client_api(self):\n",
        "    return self.twitter_client\n"
      ],
      "metadata": {
        "id": "iR2RdeChaY2y"
      },
      "execution_count": 12,
      "outputs": []
    },
    {
      "cell_type": "code",
      "source": [
        "class TweetAnalyzer():\n",
        "    def clean_tweet(self, tweet):\n",
        "        return ' '.join(re.sub(\"(@[A-Za-z0-9]+)|([^0-9A-Za-z \\t])|(\\w+:\\/\\/\\S+)\", \" \", tweet).split())\n",
        "\n",
        "    def analyze_sentiment(self, tweet):\n",
        "        analysis = TextBlob(self.clean_tweet(tweet))\n",
        "        if analysis.sentiment.polarity > 0:\n",
        "            return 1\n",
        "        elif analysis.sentiment.polarity == 0:\n",
        "            return 0\n",
        "        else:\n",
        "            return -1\n",
        "\n",
        "    def tweets_to_data_frame(self, tweets):  \n",
        "        df = pd.DataFrame([tweet.full_text for tweet in tweets], columns=['tweets'])\n",
        "\n",
        "        df['id'] = np.array([tweet.id for tweet in tweets])\n",
        "        df['len'] = np.array([len(tweet.full_text) for tweet in tweets])\n",
        "        df['date'] = np.array([tweet.created_at for tweet in tweets])\n",
        "        df['source'] = np.array([tweet.source for tweet in tweets])\n",
        "        df['likes'] = np.array([tweet.favorite_count for tweet in tweets])\n",
        "        df['retweets'] = np.array([tweet.retweet_count for tweet in tweets])\n",
        "        df['sentiment'] = np.array([self.analyze_sentiment(tweet) for tweet in df['tweets']])\n",
        "        df['polarity']=np.array([self.Polarity(tweet) for tweet in df['tweets']])\n",
        "        df['subjectivity']=np.array([self.subjectivity(tweet) for tweet in df['tweets']])\n",
        "        return df\n",
        "\n",
        "    def Polarity(self, tweet):\n",
        "        analysis = TextBlob(self.clean_tweet(tweet))\n",
        "        polarity = analysis.sentiment.polarity \n",
        "        return polarity\n",
        "        \n",
        "    \n",
        "    def subjectivity(self, tweet):\n",
        "        analysis = TextBlob(self.clean_tweet(tweet))\n",
        "        subjectivity = analysis.sentiment.subjectivity\n",
        "        return subjectivity"
      ],
      "metadata": {
        "id": "FzS-4JxOa0GY"
      },
      "execution_count": 13,
      "outputs": []
    },
    {
      "cell_type": "code",
      "source": [
        "class keyword():\n",
        "    def key(word):\n",
        "        twitter_client = TwitterClient()\n",
        "        tweet_analyzer = TweetAnalyzer()\n",
        "        api = twitter_client.get_twitter_client_api()\n",
        "        tweets = api.user_timeline(screen_name=word, count=200, tweet_mode='extended')\n",
        "        df = tweet_analyzer.tweets_to_data_frame(tweets)\n",
        "        return df"
      ],
      "metadata": {
        "id": "mVDJAesVbPNG"
      },
      "execution_count": 14,
      "outputs": []
    },
    {
      "cell_type": "code",
      "source": [
        "class plotting():\n",
        "    def show_wordcloud(data, title = None):\n",
        "        img = BytesIO()\n",
        "        stopwords = set(STOPWORDS)\n",
        "        wd = WordCloud(\n",
        "        background_color='white',\n",
        "        stopwords=stopwords,\n",
        "        max_words=200,\n",
        "        max_font_size=40, \n",
        "        scale=3,\n",
        "        random_state=1\n",
        "        ).generate(str(data))\n",
        "        \n",
        "        plt.axis('off')\n",
        "        plt.imshow(wd,interpolation='bilinear')\n",
        "        wd.to_image().save(img, 'JPEG')\n",
        "        img.seek(0)\n",
        "        plotwrd = base64.b64encode(img.getvalue())\n",
        "        plt.close()\n",
        "        return plotwrd.decode('utf-8')\n",
        "    \n",
        "    def sentiment(wrd):\n",
        "        data=[]\n",
        "        for sent in range(0,len(wrd)):\n",
        "            if wrd['sentiment'][sent]>0:\n",
        "                strng='Positive'\n",
        "                data.append(strng)\n",
        "            elif wrd['sentiment'][sent]==0:\n",
        "                strng='Neutral'\n",
        "                data.append(strng)\n",
        "            else:\n",
        "                strng='Negative'\n",
        "                data.append(strng)\n",
        "        dd=pd.DataFrame(data,columns=[\"sentiments\"])\n",
        "        sns.catplot(x=\"sentiments\", kind=\"count\", palette=\"Blues_d\", data=dd)\n",
        "        img = BytesIO()\n",
        "        plt.savefig(img, format='png')\n",
        "        img.seek(0) \n",
        "        plotsenti = base64.b64encode(img.getvalue())\n",
        "        plt.close()\n",
        "        return plotsenti.decode('utf-8')\n",
        "        \n",
        "\n",
        "    def PolarityAndSubjectivity(df):\n",
        "        plt.rcParams['figure.figsize'] = [10, 8]\n",
        "        for index, tweets in enumerate(df.index):\n",
        "            x = df.polarity.loc[tweets]\n",
        "            y = df.subjectivity.loc[tweets]\n",
        "            plt.scatter(x, y, color='Red')\n",
        "            plt.title('Sentiment Analysis', fontsize = 20)\n",
        "            plt.xlabel('Polarity', fontsize=15)\n",
        "            plt.ylabel('Subjectivity', fontsize=10)\n",
        "        img2 = BytesIO()\n",
        "        plt.tight_layout()\n",
        "        plt.savefig(img2, format='jpeg',dpi=500)\n",
        "        img2.seek(0)\n",
        "        plot_url = base64.b64encode(img2.getvalue())\n",
        "        \n",
        "        return plot_url.decode('utf-8')"
      ],
      "metadata": {
        "id": "fckqyGRmbXO3"
      },
      "execution_count": 15,
      "outputs": []
    },
    {
      "cell_type": "markdown",
      "source": [
        "Twitter App using Flask"
      ],
      "metadata": {
        "id": "enp-F6mIcCVD"
      }
    },
    {
      "cell_type": "code",
      "source": [
        "from flask import Flask, request, render_template"
      ],
      "metadata": {
        "id": "nHkZRRhHcHAL"
      },
      "execution_count": 18,
      "outputs": []
    },
    {
      "cell_type": "code",
      "source": [
        "app = Flask(\"Project\")"
      ],
      "metadata": {
        "id": "mxRvtspgcQml"
      },
      "execution_count": 20,
      "outputs": []
    },
    {
      "cell_type": "code",
      "source": [
        "@app.route('/')\n",
        "def home():\n",
        "  return render_template('Twitter.html')"
      ],
      "metadata": {
        "id": "COrQj3aScaYm"
      },
      "execution_count": 21,
      "outputs": []
    },
    {
      "cell_type": "code",
      "source": [
        "@app.route('/keyword',methods=['POST','GET'])\n",
        "def keyword():\n",
        "  val=request.from[\"keyword\"]\n",
        "  word=keyword.key(val)\n",
        "  polarity=plotting.PolarityAndSubjectivity(word)\n",
        "  word_cld=plotting.show_wordcloud(word['tweets'])\n",
        "  negative_positive_plot=plotting.sentiment(word)\n",
        "  return render_template('Twitter.html',prediction=word['tweets'].head(),Top_Five_Tweets=\"Top Five Raw Tweets:\",plot=word_cld,Word_cloud=\"Word Cloud for common words used in the Tweets\",plot_polarity=polarity,polatiry_plot=\"Relationship between Subjectivity and Polarity\",plot_sentiment=negative_positive_plot,Sentiment=\"Count of Positive, Negative and Neutral Tweets\")\n",
        "\n",
        "if __name__ == \"__main__\":\n",
        "    app.run()"
      ],
      "metadata": {
        "id": "bbKDGNYncmUB"
      },
      "execution_count": null,
      "outputs": []
    }
  ]
}